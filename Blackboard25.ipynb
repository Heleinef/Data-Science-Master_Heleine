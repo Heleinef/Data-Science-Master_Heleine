{
  "nbformat": 4,
  "nbformat_minor": 0,
  "metadata": {
    "colab": {
      "provenance": [],
      "authorship_tag": "ABX9TyPwNJ3uMBLbdMLokkJOViuv",
      "include_colab_link": true
    },
    "kernelspec": {
      "name": "python3",
      "display_name": "Python 3"
    },
    "language_info": {
      "name": "python"
    }
  },
  "cells": [
    {
      "cell_type": "markdown",
      "metadata": {
        "id": "view-in-github",
        "colab_type": "text"
      },
      "source": [
        "<a href=\"https://colab.research.google.com/github/Heleinef/Data-Science-Master_Heleine/blob/main/Blackboard25.ipynb\" target=\"_parent\"><img src=\"https://colab.research.google.com/assets/colab-badge.svg\" alt=\"Open In Colab\"/></a>"
      ]
    },
    {
      "cell_type": "markdown",
      "source": [
        "1. Write a Python class to reverse a string word by word.\n",
        "\n",
        "Example:\n",
        "Input string : 'hello .py'\n",
        "Expected Output : '.py hello'"
      ],
      "metadata": {
        "id": "r-qSTK9mDHye"
      }
    },
    {
      "cell_type": "code",
      "execution_count": 1,
      "metadata": {
        "colab": {
          "base_uri": "https://localhost:8080/"
        },
        "id": "gSvQvLu6DGEo",
        "outputId": "d8b18c9f-c7f9-4354-9a48-3db1e23c9b1a"
      },
      "outputs": [
        {
          "output_type": "stream",
          "name": "stdout",
          "text": [
            "Input string: 'hello .py'\n",
            "Reversed string: '.py hello'\n"
          ]
        }
      ],
      "source": [
        "class StringReverser:\n",
        "    def __init__(self, input_string):\n",
        "        self.input_string = input_string\n",
        "\n",
        "    def reverse_words(self):\n",
        "        words = self.input_string.split()\n",
        "        reversed_string = ' '.join(reversed(words))\n",
        "        return reversed_string\n",
        "\n",
        "# Example usage:\n",
        "input_str = 'hello .py'\n",
        "reverser = StringReverser(input_str)\n",
        "\n",
        "result = reverser.reverse_words()\n",
        "print(f\"Input string: '{input_str}'\")\n",
        "print(f\"Reversed string: '{result}'\")\n"
      ]
    },
    {
      "cell_type": "markdown",
      "source": [
        "2. Write a Python class named Circle constructed by a radius and two methods which will compute the area and the perimeter of a circle.\n"
      ],
      "metadata": {
        "id": "m2r3G_y1DcWR"
      }
    },
    {
      "cell_type": "code",
      "source": [
        "class Circle:\n",
        "    def __init__(self, radius):\n",
        "        self.radius = radius\n",
        "\n",
        "    def compute_area(self):\n",
        "        area = 3.14 * (self.radius ** 2)\n",
        "        return area\n",
        "\n",
        "    def compute_perimeter(self):\n",
        "        perimeter = 2 * 3.14 * self.radius\n",
        "        return perimeter\n",
        "\n",
        "# Example usage:\n",
        "radius_value = 5\n",
        "circle_instance = Circle(radius_value)\n",
        "\n",
        "area_result = circle_instance.compute_area()\n",
        "perimeter_result = circle_instance.compute_perimeter()\n",
        "\n",
        "print(f\"Circle with radius {radius_value}:\")\n",
        "print(f\"Area: {area_result}\")\n",
        "print(f\"Perimeter: {perimeter_result}\")\n"
      ],
      "metadata": {
        "colab": {
          "base_uri": "https://localhost:8080/"
        },
        "id": "muX48ag_Dmyg",
        "outputId": "b1697be3-a2fa-4b4a-8291-d872ac8f32f6"
      },
      "execution_count": 2,
      "outputs": [
        {
          "output_type": "stream",
          "name": "stdout",
          "text": [
            "Circle with radius 5:\n",
            "Area: 78.5\n",
            "Perimeter: 31.400000000000002\n"
          ]
        }
      ]
    }
  ]
}