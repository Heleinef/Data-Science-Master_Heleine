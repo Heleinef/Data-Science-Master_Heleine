{
  "nbformat": 4,
  "nbformat_minor": 0,
  "metadata": {
    "colab": {
      "provenance": [],
      "authorship_tag": "ABX9TyP+N1S7mgXn/7JoVHD3qF88",
      "include_colab_link": true
    },
    "kernelspec": {
      "name": "python3",
      "display_name": "Python 3"
    },
    "language_info": {
      "name": "python"
    }
  },
  "cells": [
    {
      "cell_type": "markdown",
      "metadata": {
        "id": "view-in-github",
        "colab_type": "text"
      },
      "source": [
        "<a href=\"https://colab.research.google.com/github/Heleinef/Data-Science-Master_Heleine/blob/main/Discussion4.ipynb\" target=\"_parent\"><img src=\"https://colab.research.google.com/assets/colab-badge.svg\" alt=\"Open In Colab\"/></a>"
      ]
    },
    {
      "cell_type": "markdown",
      "source": [
        "Question 1"
      ],
      "metadata": {
        "id": "F-mZb_R5JxBN"
      }
    },
    {
      "cell_type": "code",
      "source": [
        "def rectangle_properties(length, width):\n",
        "    area = length * width\n",
        "    perimeter = 2 * (length + width)\n",
        "    return area, perimeter\n",
        "\n",
        "# Example usage:\n",
        "length = 7\n",
        "width = 4\n",
        "area_result, perimeter_result = rectangle_properties(length, width)\n",
        "\n",
        "print(f\"The area of the rectangle is: {area_result}\")\n",
        "print(f\"The perimeter of the rectangle is: {perimeter_result}\")\n"
      ],
      "metadata": {
        "colab": {
          "base_uri": "https://localhost:8080/"
        },
        "id": "hTSitbI-JuiK",
        "outputId": "f6446631-ed68-4016-a596-3a956e27bafe"
      },
      "execution_count": 1,
      "outputs": [
        {
          "output_type": "stream",
          "name": "stdout",
          "text": [
            "The area of the rectangle is: 28\n",
            "The perimeter of the rectangle is: 22\n"
          ]
        }
      ]
    },
    {
      "cell_type": "markdown",
      "source": [
        "Question 2"
      ],
      "metadata": {
        "id": "bB2AgzklLqgJ"
      }
    },
    {
      "cell_type": "code",
      "execution_count": 2,
      "metadata": {
        "colab": {
          "base_uri": "https://localhost:8080/"
        },
        "id": "8CLDpuiiJnP7",
        "outputId": "4243c46a-ed16-49cc-ae2b-c539708a051b"
      },
      "outputs": [
        {
          "output_type": "stream",
          "name": "stdout",
          "text": [
            "Enter a number: 3\n",
            "3 is odd.\n"
          ]
        }
      ],
      "source": [
        "def check_even_or_odd(number):\n",
        "    if number % 2 == 0:\n",
        "        print(f\"{number} is even.\")\n",
        "    else:\n",
        "        print(f\"{number} is odd.\")\n",
        "\n",
        "# Example usage:\n",
        "user_input = int(input(\"Enter a number: \"))\n",
        "check_even_or_odd(user_input)\n"
      ]
    },
    {
      "cell_type": "markdown",
      "source": [
        "Question 3"
      ],
      "metadata": {
        "id": "3yF4SbDkJsdW"
      }
    },
    {
      "cell_type": "code",
      "source": [
        "def count_upper_lower(string):\n",
        "    upper_count = 0\n",
        "    lower_count = 0\n",
        "\n",
        "    for char in string:\n",
        "        if char.isupper():\n",
        "            upper_count += 1\n",
        "        elif char.islower():\n",
        "            lower_count += 1\n",
        "\n",
        "    print(f\"Sample string: \\\"{string}\\\"\")\n",
        "    print(f\"# of upper case characters: {upper_count}\")\n",
        "    print(f\"# of lower case characters: {lower_count}\")\n",
        "\n",
        "# Example usage:\n",
        "sample_string = \"CUNY sps\"\n",
        "count_upper_lower(sample_string)\n"
      ],
      "metadata": {
        "colab": {
          "base_uri": "https://localhost:8080/"
        },
        "id": "pQ8l6dkdMGzZ",
        "outputId": "a5dfe651-e250-440a-ffbd-356370f155b2"
      },
      "execution_count": 3,
      "outputs": [
        {
          "output_type": "stream",
          "name": "stdout",
          "text": [
            "Sample string: \"CUNY sps\"\n",
            "# of upper case characters: 4\n",
            "# of lower case characters: 3\n"
          ]
        }
      ]
    },
    {
      "cell_type": "markdown",
      "source": [
        "Question 4\n"
      ],
      "metadata": {
        "id": "M46p_RsbMNeR"
      }
    },
    {
      "cell_type": "code",
      "source": [
        "def sum_numbers(numbers):\n",
        "    total_sum = sum(numbers)\n",
        "    return total_sum\n",
        "\n",
        "# Example usage:\n",
        "numbers_list = [1, 2, 3, 4, 5]\n",
        "result = sum_numbers(numbers_list)\n",
        "print(f\"Sum of the numbers: {result}\")\n"
      ],
      "metadata": {
        "colab": {
          "base_uri": "https://localhost:8080/"
        },
        "id": "o0u8unY_MSmT",
        "outputId": "c015abac-42fa-4463-ff60-02135998d6d2"
      },
      "execution_count": 4,
      "outputs": [
        {
          "output_type": "stream",
          "name": "stdout",
          "text": [
            "Sum of the numbers: 15\n"
          ]
        }
      ]
    },
    {
      "cell_type": "markdown",
      "source": [
        "Question 5\n"
      ],
      "metadata": {
        "id": "x97X2R6TMcuJ"
      }
    },
    {
      "cell_type": "code",
      "source": [
        "# Global variable\n",
        "global_var = 10\n",
        "\n",
        "def example_function():\n",
        "    # Local variable\n",
        "    local_var = 5\n",
        "\n",
        "    # Accessing global variable within the function\n",
        "    print(f\"Inside the function - Global variable: {global_var}\")\n",
        "\n",
        "    # Accessing local variable within the function\n",
        "    print(f\"Inside the function - Local variable: {local_var}\")\n",
        "\n",
        "# Call the function\n",
        "example_function()\n",
        "\n",
        "# Trying to access local variable outside the function (will result in an error)\n",
        "# print(f\"Outside the function - Local variable: {local_var}\")\n"
      ],
      "metadata": {
        "colab": {
          "base_uri": "https://localhost:8080/"
        },
        "id": "uv70WUqpMfuQ",
        "outputId": "6e70f15a-f174-4a12-e03a-0b884fcb2997"
      },
      "execution_count": 5,
      "outputs": [
        {
          "output_type": "stream",
          "name": "stdout",
          "text": [
            "Inside the function - Global variable: 10\n",
            "Inside the function - Local variable: 5\n"
          ]
        }
      ]
    },
    {
      "cell_type": "markdown",
      "source": [
        "Question 6"
      ],
      "metadata": {
        "id": "WnOMJqEJM3iI"
      }
    },
    {
      "cell_type": "code",
      "source": [
        "def multiply_with_unknown(number):\n",
        "    # An unknown given number\n",
        "    unknown_number = 5\n",
        "\n",
        "    # Multiply the argument with the unknown number\n",
        "    result = number * unknown_number\n",
        "\n",
        "    return result\n",
        "\n",
        "# Test the function\n",
        "user_input = float(input(\"Enter a number: \"))\n",
        "result = multiply_with_unknown(user_input)\n",
        "\n",
        "print(f\"The result of multiplying {user_input} with the unknown number is: {result}\")\n"
      ],
      "metadata": {
        "colab": {
          "base_uri": "https://localhost:8080/"
        },
        "id": "d_e7rGU2NDM5",
        "outputId": "2ae4834d-bf13-4634-d915-582ee7e560a5"
      },
      "execution_count": 6,
      "outputs": [
        {
          "output_type": "stream",
          "name": "stdout",
          "text": [
            "Enter a number: 45\n",
            "The result of multiplying 45.0 with the unknown number is: 225.0\n"
          ]
        }
      ]
    }
  ]
}