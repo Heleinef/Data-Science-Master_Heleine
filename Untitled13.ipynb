{
  "nbformat": 4,
  "nbformat_minor": 0,
  "metadata": {
    "colab": {
      "provenance": [],
      "toc_visible": true,
      "authorship_tag": "ABX9TyN4OOtZFk5MYFGWzOSQiC6Z",
      "include_colab_link": true
    },
    "kernelspec": {
      "name": "python3",
      "display_name": "Python 3"
    },
    "language_info": {
      "name": "python"
    }
  },
  "cells": [
    {
      "cell_type": "markdown",
      "metadata": {
        "id": "view-in-github",
        "colab_type": "text"
      },
      "source": [
        "<a href=\"https://colab.research.google.com/github/Heleinef/Data-Science-Master_Heleine/blob/main/Untitled13.ipynb\" target=\"_parent\"><img src=\"https://colab.research.google.com/assets/colab-badge.svg\" alt=\"Open In Colab\"/></a>"
      ]
    },
    {
      "cell_type": "code",
      "execution_count": 2,
      "metadata": {
        "colab": {
          "base_uri": "https://localhost:8080/"
        },
        "id": "qEzEkdVpTt1J",
        "outputId": "444e974f-edb3-4876-f825-2cee38b7f93e"
      },
      "outputs": [
        {
          "output_type": "stream",
          "name": "stdout",
          "text": [
            "{'A/B testing': ['Ability to analyze', 'Advanced analytics', 'Advertising experience', 'AI (artificial intelligence)', 'Algorithms', 'Analysis of variance,', 'Analytical skills,', 'Behavioral analytics', '...']}\n",
            "{'Software/specific analytical skills:': ['Alteryx', 'Apache Flink', 'Apache Hive', 'Apache PIG', '...']}\n"
          ]
        }
      ],
      "source": [
        "import re\n",
        "\n",
        "# Provided text\n",
        "text = \"\"\"\n",
        "A/B testing\n",
        "Ability to analyze\n",
        "Advanced analytics\n",
        "Advertising experience\n",
        "AI (artificial intelligence)\n",
        "Algorithms\n",
        "Analysis of variance,\n",
        "Analytical skills,\n",
        "Behavioral analytics\n",
        "...\n",
        "Software/specific analytical skills:\n",
        "Alteryx\n",
        "Apache Flink\n",
        "Apache Hive\n",
        "Apache PIG\n",
        "...\n",
        "\"\"\"\n",
        "\n",
        "# Split the text into sections based on bold titles\n",
        "sections = re.split(r\"\\n(?=[A-Z][A-Za-z/\\s-]+:)\", text)\n",
        "\n",
        "# Initialize a list to store the data\n",
        "data_list = []\n",
        "\n",
        "# Iterate through sections and extract titles and associated skills/qualifications\n",
        "for section in sections:\n",
        "    lines = section.strip().split(\"\\n\")\n",
        "    title = lines[0].strip()\n",
        "    skills = [line.strip() for line in lines[1:]]\n",
        "    data_list.append({title: skills})\n",
        "\n",
        "# Print the resulting list of dictionaries\n",
        "for data in data_list:\n",
        "    print(data)"
      ]
    }
  ]
}