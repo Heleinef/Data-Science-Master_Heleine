{
  "nbformat": 4,
  "nbformat_minor": 0,
  "metadata": {
    "colab": {
      "provenance": [],
      "authorship_tag": "ABX9TyM0BqiaDnsOTUdR8ZlJRyo5",
      "include_colab_link": true
    },
    "kernelspec": {
      "name": "python3",
      "display_name": "Python 3"
    },
    "language_info": {
      "name": "python"
    }
  },
  "cells": [
    {
      "cell_type": "markdown",
      "metadata": {
        "id": "view-in-github",
        "colab_type": "text"
      },
      "source": [
        "<a href=\"https://colab.research.google.com/github/Heleinef/Data-Science-Master_Heleine/blob/main/Proposal_data620.ipynb\" target=\"_parent\"><img src=\"https://colab.research.google.com/assets/colab-badge.svg\" alt=\"Open In Colab\"/></a>"
      ]
    },
    {
      "cell_type": "markdown",
      "source": [
        "# Team Members: Gabriel, Heleine, Kossi, Victor"
      ],
      "metadata": {
        "id": "X5dNptvRQ7LO"
      }
    },
    {
      "cell_type": "markdown",
      "source": [
        "# **Proposal for Final Project**\n",
        "\n",
        "# Objective and Motivation\n",
        "\n",
        "The aim of this project is to perform text and network analysis on Twitter posts made by ISIS supporters before the 2015 attack on Paris. By analyzing these tweets, we hope to provide useful insights into the pro-ISIS network of users, common themes in their communication, and the geographic distribution of the tweets. The analysis will help understand the sentiment and dissemination patterns among ISIS supporters, which can assist in making informed decisions in counter-terrorism strategies.\n",
        "\n",
        "**Project Question**\n",
        "\n",
        "\"How can web analytics be utilized to identify, collect data on, and counteract potential terrorists communicating via social media\"?\n",
        "\n",
        "**Data Source**\n",
        "\n",
        "The dataset will consist of Twitter posts made by ISIS supporters before an attack on Paris. Attributes include tweet text, user information, and geographic data.\n",
        "\n",
        "# Work Plan\n",
        "\n",
        "**Data Collection and Preprocessing**\n",
        "\n",
        "Collect Twitter posts made by ISIS supporters using appropriate data collection methods.\n",
        "Clean and preprocess the data to ensure accuracy and completeness.\n",
        "\n",
        "**Text Analysis**\n",
        "\n",
        "Perform a frequency count of the most commonly used words by ISIS supporters.\n",
        "Conduct sentiment analysis to measure pro, anti, and neutral ISIS sentiments within the tweets.\n",
        "Generate a word cloud to visualize words identified as pro or anti-ISIS.\n",
        "\n",
        "**Network Analysis**\n",
        "\n",
        "Visualize the pro-ISIS network of users to map out connections and relationships among supporters.\n",
        "\n",
        "**Data Extraction**\n",
        "\n",
        "Extract relevant information from tweets, including places of origin and associated URL links.\n",
        "Analyze the distribution of this data to identify patterns and insights.\n",
        "\n",
        "**Evaluation and Insights**\n",
        "\n",
        "Evaluate the network, text, and geographic analyses to provide insights into the communication and dissemination patterns among ISIS supporters.\n",
        "Determine the overall sentiment and geographic distribution of pro-ISIS tweets.\n",
        "\n",
        "**Visualization and Reporting**\n",
        "\n",
        "Create visualizations for sentiment analysis as it applies to pro-ISIS tweets, a network map, word frequency count chart, and a visual of pro and anti-ISIS words.\n",
        "\n",
        "**Concerns and Challenges**\n",
        "\n",
        "Data Quality: Ensuring the dataset is accurate and free of inconsistencies that could affect the analysis.\n",
        "Text Analysis Complexity: Dealing with the inherent complexity and variability in tweet content.\n",
        "Network Analysis Accuracy: Ensuring that the network analysis accurately reflects the relationships among users.\n",
        "\n",
        "**Flexibility in Planning**\n",
        "\n",
        "This proposal serves as a flexible planning document. Adjustments will be made as necessary based on the progress and insights gained during the analysis to ensure the project's success, up to and including a full redraft, should the specified data source change."
      ],
      "metadata": {
        "id": "pjFcoyQ-NiwR"
      }
    }
  ]
}