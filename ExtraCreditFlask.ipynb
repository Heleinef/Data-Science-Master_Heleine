{
  "nbformat": 4,
  "nbformat_minor": 0,
  "metadata": {
    "colab": {
      "provenance": [],
      "include_colab_link": true
    },
    "kernelspec": {
      "name": "python3",
      "display_name": "Python 3"
    },
    "language_info": {
      "name": "python"
    }
  },
  "cells": [
    {
      "cell_type": "markdown",
      "metadata": {
        "id": "view-in-github",
        "colab_type": "text"
      },
      "source": [
        "<a href=\"https://colab.research.google.com/github/Heleinef/Data-Science-Master_Heleine/blob/main/ExtraCreditFlask.ipynb\" target=\"_parent\"><img src=\"https://colab.research.google.com/assets/colab-badge.svg\" alt=\"Open In Colab\"/></a>"
      ]
    },
    {
      "cell_type": "code",
      "execution_count": 1,
      "metadata": {
        "id": "wsHsAjCY7TLG"
      },
      "outputs": [],
      "source": [
        "'''\n",
        "Extra Credit\n",
        "\n",
        "Submissions must be a Python file and not a notebook file (i.e *.ipynb)\n",
        "Do not use global variables\n",
        "\n",
        "http://flask.pocoo.org/docs/1.0/quickstart/\n",
        "\n",
        "Using the flask web server, load the HTML form contained in the variable main_page. The form should load at route '/'.\n",
        "The user should then be able to enter a number and click Calculate at which time the browser will submit\n",
        "an HTTP POST to the web server. The web server will then capture the post, extract the number entered\n",
        "and display the number multiplied by 5 on the browser.\n",
        "'''\n",
        "\n",
        "from flask import Flask, request\n",
        "\n",
        "main_page = '''\n"
      ]
    },
    {
      "cell_type": "code",
      "source": [
        "from flask import Flask, request\n",
        "\n",
        "app = Flask(__name__)\n",
        "\n",
        "main_page = '''\n",
        "<!DOCTYPE html>\n",
        "<html>\n",
        "<head>\n",
        "    <title>Multiplier</title>\n",
        "</head>\n",
        "<body>\n",
        "    <h2>Enter a number to be multiplied by 5:</h2>\n",
        "    <form method=\"POST\" action=\"/\">\n",
        "        <input type=\"text\" name=\"number\">\n",
        "        <input type=\"submit\" value=\"Calculate\">\n",
        "    </form>\n",
        "    <div>{result}</div>\n",
        "</body>\n",
        "</html>\n",
        "'''\n",
        "\n",
        "@app.route('/', methods=['GET', 'POST'])\n",
        "def index():\n",
        "    if request.method == 'POST':\n",
        "        number = request.form['number']\n",
        "        try:\n",
        "            number = int(number)\n",
        "            result = number * 5\n",
        "        except ValueError:\n",
        "            result = \"Please enter a valid number.\"\n",
        "        return main_page.format(result=result)\n",
        "    else:\n",
        "        return main_page.format(result=\"\")\n",
        "\n",
        "if __name__ == '__main__':\n",
        "    app.run(debug=True)\n",
        "\n",
        "\n"
      ],
      "metadata": {
        "colab": {
          "base_uri": "https://localhost:8080/"
        },
        "id": "VbynrSG3nuAY",
        "outputId": "c29da476-1f05-4fad-ed81-258a0d431df6"
      },
      "execution_count": 3,
      "outputs": [
        {
          "output_type": "stream",
          "name": "stdout",
          "text": [
            " * Serving Flask app '__main__'\n",
            " * Debug mode: on\n"
          ]
        },
        {
          "output_type": "stream",
          "name": "stderr",
          "text": [
            "INFO:werkzeug:\u001b[31m\u001b[1mWARNING: This is a development server. Do not use it in a production deployment. Use a production WSGI server instead.\u001b[0m\n",
            " * Running on http://127.0.0.1:5000\n",
            "INFO:werkzeug:\u001b[33mPress CTRL+C to quit\u001b[0m\n",
            "INFO:werkzeug: * Restarting with stat\n"
          ]
        }
      ]
    }
  ]
}