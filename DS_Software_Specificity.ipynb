{
  "nbformat": 4,
  "nbformat_minor": 0,
  "metadata": {
    "colab": {
      "provenance": [],
      "authorship_tag": "ABX9TyO7pHvVrTrmSR+efzYuLqdH",
      "include_colab_link": true
    },
    "kernelspec": {
      "name": "python3",
      "display_name": "Python 3"
    },
    "language_info": {
      "name": "python"
    }
  },
  "cells": [
    {
      "cell_type": "markdown",
      "metadata": {
        "id": "view-in-github",
        "colab_type": "text"
      },
      "source": [
        "<a href=\"https://colab.research.google.com/github/Heleinef/Data-Science-Master_Heleine/blob/main/DS_Software_Specificity.ipynb\" target=\"_parent\"><img src=\"https://colab.research.google.com/assets/colab-badge.svg\" alt=\"Open In Colab\"/></a>"
      ]
    },
    {
      "cell_type": "code",
      "execution_count": 4,
      "metadata": {
        "colab": {
          "base_uri": "https://localhost:8080/"
        },
        "id": "w5OUzNCYf8Qj",
        "outputId": "d4d07d32-09df-485f-bd6a-dddcce0d5d6e"
      },
      "outputs": [
        {
          "output_type": "stream",
          "name": "stdout",
          "text": [
            "('Alteryx', 'JMP', 'Redshift')\n",
            "('Apache Flink', 'Knime', 'Revolution')\n",
            "('Apache Hive', 'Looker', 'Salesforce CRM')\n",
            "('Apache PIG', 'Matlab', 'SAP')\n",
            "('Apache Spark', 'Matlab', 'SAS')\n",
            "('Apache Storm', 'Microsoft Access', 'SAS Enterprise Miner')\n",
            "('AWS', 'Microsoft Excel', 'Scala')\n",
            "('Azure', 'Microsoft Word', 'Sisense')\n",
            "('C/C++', 'Microstrategy', 'Splunk')\n",
            "('Caffe', 'Minitab', 'SPSS')\n",
            "('Cognos', 'Oracle', 'SPSS Modeler')\n",
            "('Dataiku', 'Perl', 'SQL')\n",
            "('Experience in Microsoft products', 'PowerPoint', 'Stata')\n",
            "('Google AdWords', 'Python', 'Tableau')\n",
            "('Hadoop', 'Qlikview', 'Tensoflow')\n",
            "('Hubspot', 'R', 'Teradata')\n",
            "('Java', 'RapidMiner', 'Thoughspot')\n"
          ]
        }
      ],
      "source": [
        "# Data Science Software/Specific Analytical Skills\n",
        "data = [\n",
        "\n",
        "    \"Alteryx\",\n",
        "    \"Apache Flink\",\n",
        "    \"Apache Hive\",\n",
        "    \"Apache PIG\",\n",
        "    \"Apache Spark\",\n",
        "    \"Apache Storm\",\n",
        "    \"AWS\",\n",
        "    \"Azure\",\n",
        "    \"C/C++\",\n",
        "    \"Caffe\",\n",
        "    \"Cognos\",\n",
        "    \"Dataiku\",\n",
        "    \"Experience in Microsoft products\",\n",
        "    \"Google AdWords\",\n",
        "    \"Hadoop\",\n",
        "    \"Hubspot\",\n",
        "    \"Java\",\n",
        "    \"JMP\",\n",
        "    \"Knime\",\n",
        "    \"Looker\",\n",
        "    \"Matlab\",\n",
        "    \"Matlab\",\n",
        "    \"Microsoft Access\",\n",
        "    \"Microsoft Excel\",\n",
        "    \"Microsoft Word\",\n",
        "    \"Microstrategy\",\n",
        "    \"Minitab\",\n",
        "    \"Oracle\",\n",
        "    \"Perl\",\n",
        "    \"PowerPoint\",\n",
        "    \"Python\",\n",
        "    \"Qlikview\",\n",
        "    \"R\",\n",
        "    \"RapidMiner\",\n",
        "    \"Redshift\",\n",
        "    \"Revolution\",\n",
        "    \"Salesforce CRM\",\n",
        "    \"SAP\",\n",
        "    \"SAS\",\n",
        "    \"SAS Enterprise Miner\",\n",
        "    \"Scala\",\n",
        "    \"Sisense\",\n",
        "    \"Splunk\",\n",
        "    \"SPSS\",\n",
        "    \"SPSS Modeler\",\n",
        "    \"SQL\",\n",
        "    \"Stata\",\n",
        "    \"Tableau\",\n",
        "    \"Tensoflow\",\n",
        "    \"Teradata\",\n",
        "    \"Thoughspot\",\n",
        "    \"Tibco\",\n",
        "]\n",
        "\n",
        "# Remove the empty elements\n",
        "data = [item for item in data if item]\n",
        "\n",
        "# Calculate the number of items per column\n",
        "items_per_column = len(data) // 3\n",
        "\n",
        "# Split the data into three columns\n",
        "column1 = data[:items_per_column]\n",
        "column2 = data[items_per_column:2 * items_per_column]\n",
        "column3 = data[2 * items_per_column:]\n",
        "\n",
        "# Combine the three columns\n",
        "combined_data = list(zip(column1, column2, column3))\n",
        "\n",
        "# Print the data in three columns\n",
        "for row in combined_data:\n",
        "    print(row)\n"
      ]
    }
  ]
}