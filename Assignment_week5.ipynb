{
  "nbformat": 4,
  "nbformat_minor": 0,
  "metadata": {
    "colab": {
      "provenance": [],
      "authorship_tag": "ABX9TyPaeby+ovKjLL7ITc6J98Bl",
      "include_colab_link": true
    },
    "kernelspec": {
      "name": "python3",
      "display_name": "Python 3"
    },
    "language_info": {
      "name": "python"
    }
  },
  "cells": [
    {
      "cell_type": "markdown",
      "metadata": {
        "id": "view-in-github",
        "colab_type": "text"
      },
      "source": [
        "<a href=\"https://colab.research.google.com/github/Heleinef/Data-Science-Master_Heleine/blob/main/Assignment_week5.ipynb\" target=\"_parent\"><img src=\"https://colab.research.google.com/assets/colab-badge.svg\" alt=\"Open In Colab\"/></a>"
      ]
    },
    {
      "cell_type": "markdown",
      "source": [
        "# Week Five - Part 2 - Assignment(Data 620): Document Classification\n",
        "# Team members : Heleine, Gabriel, Kossi, Victor.\n"
      ],
      "metadata": {
        "id": "xRo_lnd8cmxI"
      }
    },
    {
      "cell_type": "markdown",
      "source": [
        "# Instructions:\n",
        "It can be useful to be able to classify new \"test\" documents using already classified \"training\" documents.  A common example is using a corpus of labeled spam and ham (non-spam) e-mails to predict whether or not a new document is spam.  Here is one example of such data:  UCI Machine Learning Repository: Spambase Data Set\n",
        "\n",
        "For this project, you can either use the above dataset to predict the class of new documents (either withheld from the training dataset or from another source such as your own spam folder).\n",
        "\n",
        "For more adventurous students, you are welcome (encouraged!) to come up a different set of documents (including scraped web pages!?) that have already been classified (e.g. tagged), then analyze these documents to predict how new documents should be classified."
      ],
      "metadata": {
        "id": "zPvhpXWRcmd1"
      }
    },
    {
      "cell_type": "markdown",
      "source": [
        "# Our playbook for this assignment:"
      ],
      "metadata": {
        "id": "ZriOYMRucmbu"
      }
    },
    {
      "cell_type": "markdown",
      "source": [
        "To predict the class of new documents using the Spambase dataset, we need to follow these steps:\n",
        "\n",
        "Load the dataset and split it into training and test sets.\n",
        "Train a classifier on the training set.\n",
        "Predict the class of new documents using the trained classifier.\n",
        "\n",
        "Load the dataset and split it into training and test sets.\n",
        "Train a classifier.\n",
        "Predict the class of new documents."
      ],
      "metadata": {
        "id": "_pcFZ8bXcY0x"
      }
    },
    {
      "cell_type": "markdown",
      "source": [
        "# 1. Import the dataset, install necessary packages and  import required modules."
      ],
      "metadata": {
        "id": "LSh60wsFckV7"
      }
    },
    {
      "source": [
        "!pip install ucimlrepo scikit-learn pandas\n",
        "from ucimlrepo import fetch_ucirepo\n",
        "\n",
        "# Import required libraries\n",
        "from ucimlrepo import fetch_ucirepo\n",
        "from sklearn.model_selection import train_test_split\n",
        "from sklearn.ensemble import RandomForestClassifier\n",
        "from sklearn.metrics import accuracy_score\n",
        "import pandas as pd\n",
        "\n",
        "# fetch dataset\n",
        "spambase = fetch_ucirepo(id=94)\n",
        "\n",
        "# data (as pandas dataframes)\n",
        "X = spambase.data.features\n",
        "y = spambase.data.targets\n",
        "\n",
        "# metadata\n",
        "print(spambase.metadata)\n",
        "\n",
        "# variable information\n",
        "print(spambase.variables)"
      ],
      "cell_type": "code",
      "metadata": {
        "colab": {
          "base_uri": "https://localhost:8080/"
        },
        "id": "qnm2PyYkZ35n",
        "outputId": "9f8263dc-e494-443f-9d0d-afde60aacaf5"
      },
      "execution_count": 1,
      "outputs": [
        {
          "output_type": "stream",
          "name": "stdout",
          "text": [
            "Collecting ucimlrepo\n",
            "  Downloading ucimlrepo-0.0.7-py3-none-any.whl (8.0 kB)\n",
            "Requirement already satisfied: scikit-learn in /usr/local/lib/python3.10/dist-packages (1.2.2)\n",
            "Requirement already satisfied: pandas in /usr/local/lib/python3.10/dist-packages (2.0.3)\n",
            "Requirement already satisfied: certifi>=2020.12.5 in /usr/local/lib/python3.10/dist-packages (from ucimlrepo) (2024.6.2)\n",
            "Requirement already satisfied: numpy>=1.17.3 in /usr/local/lib/python3.10/dist-packages (from scikit-learn) (1.25.2)\n",
            "Requirement already satisfied: scipy>=1.3.2 in /usr/local/lib/python3.10/dist-packages (from scikit-learn) (1.11.4)\n",
            "Requirement already satisfied: joblib>=1.1.1 in /usr/local/lib/python3.10/dist-packages (from scikit-learn) (1.4.2)\n",
            "Requirement already satisfied: threadpoolctl>=2.0.0 in /usr/local/lib/python3.10/dist-packages (from scikit-learn) (3.5.0)\n",
            "Requirement already satisfied: python-dateutil>=2.8.2 in /usr/local/lib/python3.10/dist-packages (from pandas) (2.8.2)\n",
            "Requirement already satisfied: pytz>=2020.1 in /usr/local/lib/python3.10/dist-packages (from pandas) (2023.4)\n",
            "Requirement already satisfied: tzdata>=2022.1 in /usr/local/lib/python3.10/dist-packages (from pandas) (2024.1)\n",
            "Requirement already satisfied: six>=1.5 in /usr/local/lib/python3.10/dist-packages (from python-dateutil>=2.8.2->pandas) (1.16.0)\n",
            "Installing collected packages: ucimlrepo\n",
            "Successfully installed ucimlrepo-0.0.7\n",
            "{'uci_id': 94, 'name': 'Spambase', 'repository_url': 'https://archive.ics.uci.edu/dataset/94/spambase', 'data_url': 'https://archive.ics.uci.edu/static/public/94/data.csv', 'abstract': 'Classifying Email as Spam or Non-Spam', 'area': 'Computer Science', 'tasks': ['Classification'], 'characteristics': ['Multivariate'], 'num_instances': 4601, 'num_features': 57, 'feature_types': ['Integer', 'Real'], 'demographics': [], 'target_col': ['Class'], 'index_col': None, 'has_missing_values': 'no', 'missing_values_symbol': None, 'year_of_dataset_creation': 1999, 'last_updated': 'Mon Aug 28 2023', 'dataset_doi': '10.24432/C53G6X', 'creators': ['Mark Hopkins', 'Erik Reeber', 'George Forman', 'Jaap Suermondt'], 'intro_paper': None, 'additional_info': {'summary': 'The \"spam\" concept is diverse: advertisements for products/web sites, make money fast schemes, chain letters, pornography...\\n\\nThe classification task for this dataset is to determine whether a given email is spam or not.\\n\\t\\nOur collection of spam e-mails came from our postmaster and individuals who had filed spam.  Our collection of non-spam e-mails came from filed work and personal e-mails, and hence the word \\'george\\' and the area code \\'650\\' are indicators of non-spam.  These are useful when constructing a personalized spam filter.  One would either have to blind such non-spam indicators or get a very wide collection of non-spam to generate a general purpose spam filter.\\n\\nFor background on spam: Cranor, Lorrie F., LaMacchia, Brian A.  Spam!, Communications of the ACM, 41(8):74-83, 1998.\\n\\nTypical performance is around ~7% misclassification error. False positives (marking good mail as spam) are very undesirable.If we insist on zero false positives in the training/testing set, 20-25% of the spam passed through the filter. See also Hewlett-Packard Internal-only Technical Report. External version forthcoming. ', 'purpose': None, 'funded_by': None, 'instances_represent': 'Emails', 'recommended_data_splits': None, 'sensitive_data': None, 'preprocessing_description': None, 'variable_info': 'The last column of \\'spambase.data\\' denotes whether the e-mail was considered spam (1) or not (0), i.e. unsolicited commercial e-mail.  Most of the attributes indicate whether a particular word or character was frequently occuring in the e-mail.  The run-length attributes (55-57) measure the length of sequences of consecutive capital letters.  For the statistical measures of each attribute, see the end of this file.  Here are the definitions of the attributes:\\r\\n\\r\\n48 continuous real [0,100] attributes of type word_freq_WORD \\r\\n= percentage of words in the e-mail that match WORD, i.e. 100 * (number of times the WORD appears in the e-mail) / total number of words in e-mail.  A \"word\" in this case is any string of alphanumeric characters bounded by non-alphanumeric characters or end-of-string.\\r\\n\\r\\n6 continuous real [0,100] attributes of type char_freq_CHAR] \\r\\n= percentage of characters in the e-mail that match CHAR, i.e. 100 * (number of CHAR occurences) / total characters in e-mail\\r\\n\\r\\n1 continuous real [1,...] attribute of type capital_run_length_average \\r\\n= average length of uninterrupted sequences of capital letters\\r\\n\\r\\n1 continuous integer [1,...] attribute of type capital_run_length_longest \\r\\n= length of longest uninterrupted sequence of capital letters\\r\\n\\r\\n1 continuous integer [1,...] attribute of type capital_run_length_total \\r\\n= sum of length of uninterrupted sequences of capital letters \\r\\n= total number of capital letters in the e-mail\\r\\n\\r\\n1 nominal {0,1} class attribute of type spam\\r\\n= denotes whether the e-mail was considered spam (1) or not (0), i.e. unsolicited commercial e-mail.  \\r\\n', 'citation': None}}\n",
            "                          name     role        type demographic  \\\n",
            "0               word_freq_make  Feature  Continuous        None   \n",
            "1            word_freq_address  Feature  Continuous        None   \n",
            "2                word_freq_all  Feature  Continuous        None   \n",
            "3                 word_freq_3d  Feature  Continuous        None   \n",
            "4                word_freq_our  Feature  Continuous        None   \n",
            "5               word_freq_over  Feature  Continuous        None   \n",
            "6             word_freq_remove  Feature  Continuous        None   \n",
            "7           word_freq_internet  Feature  Continuous        None   \n",
            "8              word_freq_order  Feature  Continuous        None   \n",
            "9               word_freq_mail  Feature  Continuous        None   \n",
            "10           word_freq_receive  Feature  Continuous        None   \n",
            "11              word_freq_will  Feature  Continuous        None   \n",
            "12            word_freq_people  Feature  Continuous        None   \n",
            "13            word_freq_report  Feature  Continuous        None   \n",
            "14         word_freq_addresses  Feature  Continuous        None   \n",
            "15              word_freq_free  Feature  Continuous        None   \n",
            "16          word_freq_business  Feature  Continuous        None   \n",
            "17             word_freq_email  Feature  Continuous        None   \n",
            "18               word_freq_you  Feature  Continuous        None   \n",
            "19            word_freq_credit  Feature  Continuous        None   \n",
            "20              word_freq_your  Feature  Continuous        None   \n",
            "21              word_freq_font  Feature  Continuous        None   \n",
            "22               word_freq_000  Feature  Continuous        None   \n",
            "23             word_freq_money  Feature  Continuous        None   \n",
            "24                word_freq_hp  Feature  Continuous        None   \n",
            "25               word_freq_hpl  Feature  Continuous        None   \n",
            "26            word_freq_george  Feature  Continuous        None   \n",
            "27               word_freq_650  Feature  Continuous        None   \n",
            "28               word_freq_lab  Feature  Continuous        None   \n",
            "29              word_freq_labs  Feature  Continuous        None   \n",
            "30            word_freq_telnet  Feature  Continuous        None   \n",
            "31               word_freq_857  Feature  Continuous        None   \n",
            "32              word_freq_data  Feature  Continuous        None   \n",
            "33               word_freq_415  Feature  Continuous        None   \n",
            "34                word_freq_85  Feature  Continuous        None   \n",
            "35        word_freq_technology  Feature  Continuous        None   \n",
            "36              word_freq_1999  Feature  Continuous        None   \n",
            "37             word_freq_parts  Feature  Continuous        None   \n",
            "38                word_freq_pm  Feature  Continuous        None   \n",
            "39            word_freq_direct  Feature  Continuous        None   \n",
            "40                word_freq_cs  Feature  Continuous        None   \n",
            "41           word_freq_meeting  Feature  Continuous        None   \n",
            "42          word_freq_original  Feature  Continuous        None   \n",
            "43           word_freq_project  Feature  Continuous        None   \n",
            "44                word_freq_re  Feature  Continuous        None   \n",
            "45               word_freq_edu  Feature  Continuous        None   \n",
            "46             word_freq_table  Feature  Continuous        None   \n",
            "47        word_freq_conference  Feature  Continuous        None   \n",
            "48                 char_freq_;  Feature  Continuous        None   \n",
            "49                 char_freq_(  Feature  Continuous        None   \n",
            "50                 char_freq_[  Feature  Continuous        None   \n",
            "51                 char_freq_!  Feature  Continuous        None   \n",
            "52                 char_freq_$  Feature  Continuous        None   \n",
            "53                 char_freq_#  Feature  Continuous        None   \n",
            "54  capital_run_length_average  Feature  Continuous        None   \n",
            "55  capital_run_length_longest  Feature  Continuous        None   \n",
            "56    capital_run_length_total  Feature  Continuous        None   \n",
            "57                       Class   Target      Binary        None   \n",
            "\n",
            "                 description units missing_values  \n",
            "0                       None  None             no  \n",
            "1                       None  None             no  \n",
            "2                       None  None             no  \n",
            "3                       None  None             no  \n",
            "4                       None  None             no  \n",
            "5                       None  None             no  \n",
            "6                       None  None             no  \n",
            "7                       None  None             no  \n",
            "8                       None  None             no  \n",
            "9                       None  None             no  \n",
            "10                      None  None             no  \n",
            "11                      None  None             no  \n",
            "12                      None  None             no  \n",
            "13                      None  None             no  \n",
            "14                      None  None             no  \n",
            "15                      None  None             no  \n",
            "16                      None  None             no  \n",
            "17                      None  None             no  \n",
            "18                      None  None             no  \n",
            "19                      None  None             no  \n",
            "20                      None  None             no  \n",
            "21                      None  None             no  \n",
            "22                      None  None             no  \n",
            "23                      None  None             no  \n",
            "24                      None  None             no  \n",
            "25                      None  None             no  \n",
            "26                      None  None             no  \n",
            "27                      None  None             no  \n",
            "28                      None  None             no  \n",
            "29                      None  None             no  \n",
            "30                      None  None             no  \n",
            "31                      None  None             no  \n",
            "32                      None  None             no  \n",
            "33                      None  None             no  \n",
            "34                      None  None             no  \n",
            "35                      None  None             no  \n",
            "36                      None  None             no  \n",
            "37                      None  None             no  \n",
            "38                      None  None             no  \n",
            "39                      None  None             no  \n",
            "40                      None  None             no  \n",
            "41                      None  None             no  \n",
            "42                      None  None             no  \n",
            "43                      None  None             no  \n",
            "44                      None  None             no  \n",
            "45                      None  None             no  \n",
            "46                      None  None             no  \n",
            "47                      None  None             no  \n",
            "48                      None  None             no  \n",
            "49                      None  None             no  \n",
            "50                      None  None             no  \n",
            "51                      None  None             no  \n",
            "52                      None  None             no  \n",
            "53                      None  None             no  \n",
            "54                      None  None             no  \n",
            "55                      None  None             no  \n",
            "56                      None  None             no  \n",
            "57  spam (1) or not spam (0)  None             no  \n"
          ]
        }
      ]
    },
    {
      "cell_type": "markdown",
      "source": [
        "# 2. Split the data into training and test sets. Then, Train a classifier on the training set."
      ],
      "metadata": {
        "id": "D1591ThFPaXR"
      }
    },
    {
      "cell_type": "code",
      "source": [
        "\n",
        "\n",
        "# Step 3: Fetch the Spambase dataset\n",
        "spambase = fetch_ucirepo(id=94)\n",
        "X = spambase.data.features\n",
        "y = spambase.data.targets\n",
        "\n",
        "# Step 4: Split the dataset into training and test sets\n",
        "X_train, X_test, y_train, y_test = train_test_split(X, y, test_size=0.2, random_state=42)\n",
        "\n",
        "# Step 5: Train a RandomForestClassifier\n",
        "clf = RandomForestClassifier(n_estimators=100, random_state=42)\n",
        "clf.fit(X_train, y_train)\n",
        "\n",
        "# Step 6: Evaluate the classifier\n",
        "y_pred = clf.predict(X_test)\n",
        "print(f\"Accuracy: {accuracy_score(y_test, y_pred):.2f}\")\n",
        "\n",
        "\n"
      ],
      "metadata": {
        "colab": {
          "base_uri": "https://localhost:8080/"
        },
        "id": "hqnUIF_OdS9g",
        "outputId": "2aab83c4-7654-4f51-83e5-a94da490914f"
      },
      "execution_count": null,
      "outputs": [
        {
          "output_type": "stream",
          "name": "stdout",
          "text": [
            "Requirement already satisfied: ucimlrepo in /usr/local/lib/python3.10/dist-packages (0.0.7)\n",
            "Requirement already satisfied: scikit-learn in /usr/local/lib/python3.10/dist-packages (1.2.2)\n",
            "Requirement already satisfied: pandas in /usr/local/lib/python3.10/dist-packages (2.0.3)\n",
            "Requirement already satisfied: certifi>=2020.12.5 in /usr/local/lib/python3.10/dist-packages (from ucimlrepo) (2024.6.2)\n",
            "Requirement already satisfied: numpy>=1.17.3 in /usr/local/lib/python3.10/dist-packages (from scikit-learn) (1.25.2)\n",
            "Requirement already satisfied: scipy>=1.3.2 in /usr/local/lib/python3.10/dist-packages (from scikit-learn) (1.11.4)\n",
            "Requirement already satisfied: joblib>=1.1.1 in /usr/local/lib/python3.10/dist-packages (from scikit-learn) (1.4.2)\n",
            "Requirement already satisfied: threadpoolctl>=2.0.0 in /usr/local/lib/python3.10/dist-packages (from scikit-learn) (3.5.0)\n",
            "Requirement already satisfied: python-dateutil>=2.8.2 in /usr/local/lib/python3.10/dist-packages (from pandas) (2.8.2)\n",
            "Requirement already satisfied: pytz>=2020.1 in /usr/local/lib/python3.10/dist-packages (from pandas) (2023.4)\n",
            "Requirement already satisfied: tzdata>=2022.1 in /usr/local/lib/python3.10/dist-packages (from pandas) (2024.1)\n",
            "Requirement already satisfied: six>=1.5 in /usr/local/lib/python3.10/dist-packages (from python-dateutil>=2.8.2->pandas) (1.16.0)\n"
          ]
        },
        {
          "output_type": "stream",
          "name": "stderr",
          "text": [
            "<ipython-input-3-7c78d0a8c270>:21: DataConversionWarning: A column-vector y was passed when a 1d array was expected. Please change the shape of y to (n_samples,), for example using ravel().\n",
            "  clf.fit(X_train, y_train)\n"
          ]
        },
        {
          "output_type": "stream",
          "name": "stdout",
          "text": [
            "Accuracy: 0.96\n",
            "Predictions for new documents: [0 0 0 1 0]\n",
            "Document 1:\n",
            "[0. 0. 0. 0. 0. 0. 0. 0. 0. 0. 0. 0. 0. 0. 0. 0. 0. 0. 0. 0. 0. 0. 0. 0.\n",
            " 0. 0. 0. 0. 0. 0. 0. 0. 0. 0. 0. 0. 0. 0. 0. 0. 0. 0. 0. 0. 0. 0. 0. 0.\n",
            " 0. 0. 0. 0. 0. 0. 1. 1. 3.]\n",
            "Predicted Class: Not Spam\n",
            "\n",
            "Document 2:\n",
            "[ 0.71   0.     0.71   0.     0.     0.     0.     0.     0.     0.71\n",
            "  0.     1.43   0.     0.     0.     1.43   0.     0.     1.43   0.\n",
            "  0.     0.     0.     0.     0.     0.     0.     0.     0.     0.\n",
            "  0.     0.     0.     0.     0.     0.     0.     0.     0.     0.\n",
            "  0.     0.     0.     0.     0.     1.43   0.     0.     0.     0.\n",
            "  0.     0.     0.     0.     1.032  2.    32.   ]\n",
            "Predicted Class: Not Spam\n",
            "\n",
            "Document 3:\n",
            "[  0.     0.     0.91   0.     0.     0.     0.     0.45   0.     0.\n",
            "   0.     0.     0.     0.     0.     0.     0.     0.     2.28   0.\n",
            "   0.     0.     0.     0.     0.91   0.91   0.     0.     0.     0.\n",
            "   0.     0.     0.     0.     0.45   0.     0.     0.     0.     0.\n",
            "   0.     0.     0.     0.     0.     0.     0.     0.     0.     0.\n",
            "   0.     0.     0.     0.     1.32   7.   103.  ]\n",
            "Predicted Class: Not Spam\n",
            "\n",
            "Document 4:\n",
            "[0.000e+00 0.000e+00 0.000e+00 0.000e+00 0.000e+00 0.000e+00 0.000e+00\n",
            " 0.000e+00 0.000e+00 0.000e+00 0.000e+00 0.000e+00 0.000e+00 0.000e+00\n",
            " 0.000e+00 0.000e+00 0.000e+00 0.000e+00 0.000e+00 0.000e+00 0.000e+00\n",
            " 0.000e+00 1.960e+00 0.000e+00 0.000e+00 0.000e+00 0.000e+00 0.000e+00\n",
            " 0.000e+00 0.000e+00 0.000e+00 0.000e+00 0.000e+00 0.000e+00 0.000e+00\n",
            " 0.000e+00 1.960e+00 0.000e+00 0.000e+00 0.000e+00 0.000e+00 0.000e+00\n",
            " 0.000e+00 0.000e+00 0.000e+00 0.000e+00 0.000e+00 0.000e+00 0.000e+00\n",
            " 2.010e-01 0.000e+00 0.000e+00 1.000e-01 0.000e+00 4.548e+00 5.900e+01\n",
            " 1.410e+02]\n",
            "Predicted Class: Spam\n",
            "\n",
            "Document 5:\n",
            "[0.000e+00 0.000e+00 5.400e-01 0.000e+00 0.000e+00 0.000e+00 0.000e+00\n",
            " 0.000e+00 0.000e+00 0.000e+00 0.000e+00 2.700e-01 0.000e+00 0.000e+00\n",
            " 0.000e+00 0.000e+00 0.000e+00 0.000e+00 3.290e+00 0.000e+00 0.000e+00\n",
            " 0.000e+00 0.000e+00 0.000e+00 0.000e+00 0.000e+00 0.000e+00 0.000e+00\n",
            " 0.000e+00 0.000e+00 0.000e+00 0.000e+00 0.000e+00 0.000e+00 0.000e+00\n",
            " 0.000e+00 2.700e-01 0.000e+00 2.700e-01 0.000e+00 5.400e-01 0.000e+00\n",
            " 2.700e-01 0.000e+00 2.700e-01 2.700e-01 0.000e+00 0.000e+00 0.000e+00\n",
            " 1.880e-01 4.700e-02 0.000e+00 0.000e+00 0.000e+00 1.745e+00 1.200e+01\n",
            " 8.900e+01]\n",
            "Predicted Class: Not Spam\n",
            "\n"
          ]
        }
      ]
    },
    {
      "cell_type": "markdown",
      "source": [
        "# 3. Predict the class of new documents"
      ],
      "metadata": {
        "id": "WLo1A_Ckdfa9"
      }
    },
    {
      "cell_type": "code",
      "source": [
        "# Step 7: Predict the class of new documents\n",
        "# For this example, we will use some data points from X_test as new documents.\n",
        "new_documents = X_test.iloc[:5]  # Replace with actual new documents if available\n",
        "new_predictions = clf.predict(new_documents)\n",
        "print(\"Predictions for new documents:\", new_predictions)\n",
        "\n",
        "# Step 8: (Optional) Print the new documents and their predicted classes\n",
        "for i, (doc, pred) in enumerate(zip(new_documents.values, new_predictions)):\n",
        "    print(f\"Document {i+1}:\\n{doc}\\nPredicted Class: {'Spam' if pred == 1 else 'Not Spam'}\\n\")"
      ],
      "metadata": {
        "id": "wJxwJAsmSer3"
      },
      "execution_count": null,
      "outputs": []
    },
    {
      "cell_type": "markdown",
      "source": [
        "# 4. Summary-conclusion\n",
        "\n",
        "In this assignment, we use the *ucimlrepo* package to fetch the Spambase dataset.\n",
        "We split the data into training and test sets.\n",
        "We train a RandomForestClassifier on the training set.\n",
        "We evaluate the classifier on the test set and print the accuracy.\n",
        "We predict the class of a few new documents.\n"
      ],
      "metadata": {
        "id": "mcVwVv5-dhmm"
      }
    }
  ]
}