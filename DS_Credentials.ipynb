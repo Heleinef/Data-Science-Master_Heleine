{
  "nbformat": 4,
  "nbformat_minor": 0,
  "metadata": {
    "colab": {
      "provenance": [],
      "authorship_tag": "ABX9TyOkVtWW8aJun1rOgW8ZMqUA",
      "include_colab_link": true
    },
    "kernelspec": {
      "name": "python3",
      "display_name": "Python 3"
    },
    "language_info": {
      "name": "python"
    }
  },
  "cells": [
    {
      "cell_type": "markdown",
      "metadata": {
        "id": "view-in-github",
        "colab_type": "text"
      },
      "source": [
        "<a href=\"https://colab.research.google.com/github/Heleinef/Data-Science-Master_Heleine/blob/main/DS_Credentials.ipynb\" target=\"_parent\"><img src=\"https://colab.research.google.com/assets/colab-badge.svg\" alt=\"Open In Colab\"/></a>"
      ]
    },
    {
      "cell_type": "code",
      "execution_count": 3,
      "metadata": {
        "colab": {
          "base_uri": "https://localhost:8080/"
        },
        "id": "FpRNNpKhefvO",
        "outputId": "28ad60f7-7c63-4601-9a5b-04fe863a3e02"
      },
      "outputs": [
        {
          "output_type": "stream",
          "name": "stdout",
          "text": [
            "('CREDENTIALS DESCRIPTIONS FOUND IN ANALYTICS AND DATA SCIENCE JOB ADS:', 'Degree in information technology')\n",
            "('1-3 Years experience', 'Degree in management')\n",
            "('5+ Years experience', 'Degree in management information sys')\n",
            "(\"Bachelor's degree\", 'Degree in marketing')\n",
            "('BS/BA', 'Degree in marketing research')\n",
            "('CAP (certified analytics professional)', 'Degree in mathematics')\n",
            "('Certifications', 'Degree in operations management')\n",
            "('Co-op experience', 'Degree in operations research')\n",
            "('Degree in accounting', 'Degree in psychology')\n",
            "('Degree in accounting information sys', 'Degree in quantitative methods')\n",
            "('Degree in business', 'Degree in statistics')\n",
            "('Degree in business intelligence', 'Degree in STEM')\n",
            "('Degree in computer science', 'Doctorate')\n",
            "('Degree in decision science', \"Master's degree\")\n",
            "('Degree in economics', 'MBA')\n",
            "('Degree in engineering', 'Microsoft certifications')\n",
            "('Degree in finance', 'PhD')\n",
            "('Degree in information science', 'Prior experience')\n",
            "('Degree in information systems', 'Quantitative degree')\n"
          ]
        }
      ],
      "source": [
        "# Data Science Credentials Requirements\n",
        "data = [\n",
        "    \"CREDENTIALS DESCRIPTIONS FOUND IN ANALYTICS AND DATA SCIENCE JOB ADS:\",\n",
        "    \"1-3 Years experience\",\n",
        "    \"5+ Years experience\",\n",
        "    \"Bachelor's degree\",\n",
        "    \"BS/BA\",\n",
        "    \"CAP (certified analytics professional)\",\n",
        "    \"Certifications\",\n",
        "    \"Co-op experience\",\n",
        "    \"Degree in accounting\",\n",
        "    \"Degree in accounting information sys\",\n",
        "    \"Degree in business\",\n",
        "    \"Degree in business intelligence\",\n",
        "    \"Degree in computer science\",\n",
        "    \"Degree in decision science\",\n",
        "    \"Degree in economics\",\n",
        "    \"Degree in engineering\",\n",
        "    \"Degree in finance\",\n",
        "    \"Degree in information science\",\n",
        "    \"Degree in information systems\",\n",
        "    \"Degree in information technology\",\n",
        "    \"Degree in management\",\n",
        "    \"Degree in management information sys\",\n",
        "    \"Degree in marketing\",\n",
        "    \"Degree in marketing research\",\n",
        "    \"Degree in mathematics\",\n",
        "    \"Degree in operations management\",\n",
        "    \"Degree in operations research\",\n",
        "    \"Degree in psychology\",\n",
        "    \"Degree in quantitative methods\",\n",
        "    \"Degree in statistics\",\n",
        "    \"Degree in STEM\",\n",
        "    \"Doctorate\",\n",
        "    \"Master's degree\",\n",
        "    \"MBA\",\n",
        "    \"Microsoft certifications\",\n",
        "    \"PhD\",\n",
        "    \"Prior experience\",\n",
        "    \"Quantitative degree\",\n",
        "]\n",
        "\n",
        "# Calculate the number of items per column\n",
        "items_per_column = len(data) // 2\n",
        "\n",
        "# Split the data into two columns\n",
        "column1 = data[:items_per_column]\n",
        "column2 = data[items_per_column:]\n",
        "\n",
        "# Combine the two columns\n",
        "combined_data = list(zip(column1, column2))\n",
        "\n",
        "# Print the data in two columns\n",
        "for row in combined_data:\n",
        "    print(row)\n"
      ]
    }
  ]
}