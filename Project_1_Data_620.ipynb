{
  "nbformat": 4,
  "nbformat_minor": 0,
  "metadata": {
    "colab": {
      "provenance": [],
      "authorship_tag": "ABX9TyMaFrG6QTiq8qxQfKH+sN0f",
      "include_colab_link": true
    },
    "kernelspec": {
      "name": "python3",
      "display_name": "Python 3"
    },
    "language_info": {
      "name": "python"
    }
  },
  "cells": [
    {
      "cell_type": "markdown",
      "metadata": {
        "id": "view-in-github",
        "colab_type": "text"
      },
      "source": [
        "<a href=\"https://colab.research.google.com/github/Heleinef/Data-Science-Master_Heleine/blob/main/Project_1_Data_620.ipynb\" target=\"_parent\"><img src=\"https://colab.research.google.com/assets/colab-badge.svg\" alt=\"Open In Colab\"/></a>"
      ]
    },
    {
      "cell_type": "markdown",
      "source": [
        "# Project 1/Data 620\n",
        "\n",
        "Assignment terms:\n",
        "\n",
        "Identify and load a network dataset that has some categorical information available for each node.\n",
        "For each of the nodes in the dataset, calculate degree centrality and eigenvector centrality.\n",
        "Compare your centrality measures across your categorical groups.\n",
        "For example, using the dataset from a study of romantic relationships among high school students in Columbus, Ohio [http://researchnews.osu.edu/archive/chains.htm], you might want to determine if there are any differences in your calculated centrality measures between the two sexes.  You might use a t-test or another statistical measure to support your findings.\n",
        "\n",
        "\n"
      ],
      "metadata": {
        "id": "LxrT9w7gPl4M"
      }
    },
    {
      "cell_type": "markdown",
      "source": [
        "**Data Source:**\n",
        "Dataset Name: Facebook Page-Page Network Available At: https://www.kaggle.com/datasets/rozemberczki/musae-facebook-pagepage-network\n",
        "\n",
        "Description: This dataset consists of a network of Facebook pages where nodes represent pages and edges represent mutual likes between pages. Each node has an attribute representing the category of the page.\n",
        "\n",
        "**High - Level Plan:**\n",
        "To analyze and compare the degree centrality and eigenvector centrality across different \"page_type\" categories in the Facebook dataset, we will follow these steps:\n",
        "- Load the datasets from our public Github account for reproductivity.\n",
        "- Create a graph and add node attributes.\n",
        "- Calculate degree centrality and eigenvector centrality.\n",
        "- Compare centrality measures across \"page_type\" categories.\n",
        "- Perform hypothesis testing to determine if there are significant differences in centrality measures between different \"page_type\" categories. The results are interpreted based on the p-values."
      ],
      "metadata": {
        "id": "1ceVdH1jP5QA"
      }
    },
    {
      "cell_type": "markdown",
      "source": [
        "**Load the datasets.**"
      ],
      "metadata": {
        "id": "CSTOrXZhS53h"
      }
    },
    {
      "cell_type": "code",
      "execution_count": 1,
      "metadata": {
        "colab": {
          "base_uri": "https://localhost:8080/"
        },
        "id": "GuWR0Mq6PV3F",
        "outputId": "36d5e9c6-fb27-4704-e2ea-67c0d06aee57"
      },
      "outputs": [
        {
          "output_type": "stream",
          "name": "stdout",
          "text": [
            "Index(['id', 'facebook_id', 'page_name', 'page_type'], dtype='object')\n",
            "   id       facebook_id                                     page_name  \\\n",
            "0   0   145647315578475                      The Voice of China 中国好声音   \n",
            "1   1      191483281412                 U.S. Consulate General Mumbai   \n",
            "2   2   144761358898518                                          ESET   \n",
            "3   3   568700043198473  Consulate General of Switzerland in Montreal   \n",
            "4   4  1408935539376139             Mark Bailey MP - Labor for Miller   \n",
            "\n",
            "    page_type  \n",
            "0      tvshow  \n",
            "1  government  \n",
            "2     company  \n",
            "3  government  \n",
            "4  politician  \n"
          ]
        }
      ],
      "source": [
        "import pandas as pd\n",
        "import networkx as nx\n",
        "from scipy.stats import ttest_ind\n",
        "\n",
        "# Load the datasets\n",
        "edges_url = 'https://raw.githubusercontent.com/Heleinef/Data-Science-Master_Heleine/main/musae_facebook_edges.csv'\n",
        "edges = pd.read_csv(edges_url)\n",
        "\n",
        "node_attrs_url = 'https://raw.githubusercontent.com/Heleinef/Data-Science-Master_Heleine/main/musae_facebook_target.csv'\n",
        "node_attrs = pd.read_csv(node_attrs_url)\n",
        "\n",
        "# Print the columns and the first few rows of node attributes to identify the categorical variable\n",
        "print(node_attrs.columns)\n",
        "print(node_attrs.head())"
      ]
    },
    {
      "cell_type": "markdown",
      "source": [
        "**Create a graph and add node attributes.**"
      ],
      "metadata": {
        "id": "cYyJOA99TJ_I"
      }
    },
    {
      "cell_type": "code",
      "source": [
        "# Assuming 'page_type' is the categorical variable\n",
        "# Create the graph\n",
        "G = nx.from_pandas_edgelist(edges, 'id_1', 'id_2', create_using=nx.Graph())\n",
        "\n",
        "# Add node attributes to the graph\n",
        "for _, row in node_attrs.iterrows():\n",
        "    G.nodes[row['id']].update(row.to_dict())\n"
      ],
      "metadata": {
        "id": "LTEhkuElTS_w"
      },
      "execution_count": 2,
      "outputs": []
    },
    {
      "cell_type": "markdown",
      "source": [
        "**Calculate degree centrality and eigenvector centrality.**\n"
      ],
      "metadata": {
        "id": "QsqUTP-oTi_E"
      }
    },
    {
      "cell_type": "code",
      "source": [
        "# Calculate degree centrality\n",
        "degree_centrality = nx.degree_centrality(G)\n",
        "\n",
        "# Calculate eigenvector centrality\n",
        "eigenvector_centrality = nx.eigenvector_centrality(G, max_iter=1000)\n",
        "\n"
      ],
      "metadata": {
        "id": "Auy4ErlwTsp9"
      },
      "execution_count": 9,
      "outputs": []
    },
    {
      "cell_type": "markdown",
      "source": [
        "**Compare centrality measures across \"page_type\" categories.**"
      ],
      "metadata": {
        "id": "S_wqmhTSUdnV"
      }
    },
    {
      "cell_type": "code",
      "source": [
        "# Create a DataFrame for centrality measures\n",
        "centrality_df = pd.DataFrame({\n",
        "    'id': degree_centrality.keys(),\n",
        "    'degree_centrality': degree_centrality.values(),\n",
        "    'eigenvector_centrality': eigenvector_centrality.values()\n",
        "})\n",
        "\n",
        "# Merge with node attributes to include categorical variables\n",
        "centrality_df = centrality_df.merge(node_attrs, on='id')\n",
        "print(centrality_df.head())\n",
        "\n",
        "# Compare centrality measures by page_type\n",
        "page_type_centrality = centrality_df.groupby('page_type')[['degree_centrality', 'eigenvector_centrality']].mean()\n",
        "print(page_type_centrality)"
      ],
      "metadata": {
        "colab": {
          "base_uri": "https://localhost:8080/"
        },
        "id": "JI9tZe_3UqJW",
        "outputId": "0494ed04-355a-4ae7-f545-fa6d4d8d2681"
      },
      "execution_count": 5,
      "outputs": [
        {
          "output_type": "stream",
          "name": "stdout",
          "text": [
            "      id  degree_centrality  eigenvector_centrality       facebook_id  \\\n",
            "0      0           0.000045            1.128138e-07   145647315578475   \n",
            "1  18427           0.002270            1.184549e-05  1563883503866518   \n",
            "2      1           0.001513            7.961069e-03      191483281412   \n",
            "3  21708           0.008679            2.562776e-02      367067283779   \n",
            "4  22208           0.009124            3.451845e-02        9229303148   \n",
            "\n",
            "                                           page_name   page_type  \n",
            "0                           The Voice of China 中国好声音      tvshow  \n",
            "1                                   The Voice Global      tvshow  \n",
            "2                      U.S. Consulate General Mumbai  government  \n",
            "3  U.S. Department of State: Bureau of Intl Narco...  government  \n",
            "4         U.S. Department of State: Consular Affairs  government  \n",
            "            degree_centrality  eigenvector_centrality\n",
            "page_type                                            \n",
            "company              0.000330                0.000116\n",
            "government           0.001151                0.004060\n",
            "politician           0.000656                0.000102\n",
            "tvshow               0.000414                0.000061\n"
          ]
        }
      ]
    },
    {
      "cell_type": "markdown",
      "source": [
        "# Output interpretation and analysis:\n",
        "Degree Centrality measures the number of connections a node has. Higher values indicate more connections.\n",
        "Eigenvector Centrality measure considers both the number of connections and the quality of those connections. Higher values indicate more influence within the network.\n",
        "Nodes with IDs 21708 and 22208 (government pages) have higher degree and eigenvector centrality, indicating they are more connected and influential.\n",
        "Nodes representing TV shows generally have lower centrality measures compared to government pages.\n",
        "\n",
        "The second part of the output shows the average degree and eigenvector centrality measures for different page types and one notes that:\n",
        "- Government Pages have the highest average degree centrality (0.001151) and eigenvector centrality (0.004060), indicating that these pages are, on average, more connected and influential in the network.\n",
        "- Company Pages have the second highest eigenvector centrality (0.000116), indicating a moderate influence.\n",
        "- Politician Pages have a higher average degree centrality (0.000656) than company and TV show pages but lower eigenvector centrality (0.000102), indicating they are somewhat connected but less influential.\n",
        "- TV Show Pages have the lowest average eigenvector centrality (0.000061) and a relatively low degree centrality (0.000414), indicating they are the least connected and influential among the categories.\n",
        "\n"
      ],
      "metadata": {
        "id": "zUmTzhAkYCrl"
      }
    },
    {
      "cell_type": "markdown",
      "source": [
        "**Perform hypothesis testing to determine if there are significant differences in centrality measures between different \"page_type\" categories.**"
      ],
      "metadata": {
        "id": "CSy2GVyDU7Yz"
      }
    },
    {
      "cell_type": "code",
      "source": [
        "# Perform hypothesis testing between two example page types (replace 'page_type1' and 'page_type2' with actual values)\n",
        "page_type1 = 'tvshow'\n",
        "page_type2 = 'government'\n",
        "\n",
        "page_type1_deg_cent = centrality_df[centrality_df['page_type'] == page_type1]['degree_centrality']\n",
        "page_type2_deg_cent = centrality_df[centrality_df['page_type'] == page_type2]['degree_centrality']\n",
        "\n",
        "page_type1_eig_cent = centrality_df[centrality_df['page_type'] == page_type1]['eigenvector_centrality']\n",
        "page_type2_eig_cent = centrality_df[centrality_df['page_type'] == page_type2]['eigenvector_centrality']\n",
        "\n",
        "# Perform t-tests for degree centrality\n",
        "t_stat_deg, p_value_deg = ttest_ind(page_type1_deg_cent, page_type2_deg_cent)\n",
        "print(f\"T-test for Degree Centrality between {page_type1} and {page_type2}: T-statistic = {t_stat_deg}, P-value = {p_value_deg}\")\n",
        "\n",
        "# Perform t-tests for eigenvector centrality\n",
        "t_stat_eig, p_value_eig = ttest_ind(page_type1_eig_cent, page_type2_eig_cent)\n",
        "print(f\"T-test for Eigenvector Centrality between {page_type1} and {page_type2}: T-statistic = {t_stat_eig}, P-value = {p_value_eig}\")\n",
        "\n",
        "# Interpret the results\n",
        "def interpret_t_test(p_value, measure):\n",
        "    if p_value < 0.05:\n",
        "        print(f\"There is a significant difference in {measure} between {page_type1} and {page_type2}.\")\n",
        "    else:\n",
        "        print(f\"There is no significant difference in {measure} between {page_type1} and {page_type2}.\")\n",
        "\n",
        "interpret_t_test(p_value_deg, 'degree centrality')\n",
        "interpret_t_test(p_value_eig, 'eigenvector centrality')"
      ],
      "metadata": {
        "colab": {
          "base_uri": "https://localhost:8080/"
        },
        "id": "dGuU279gVIo6",
        "outputId": "e18e7f61-1303-4d79-86fa-f89d14aa959c"
      },
      "execution_count": 7,
      "outputs": [
        {
          "output_type": "stream",
          "name": "stdout",
          "text": [
            "T-test for Degree Centrality between tvshow and government: T-statistic = -24.030932285131964, P-value = 3.569438341614403e-124\n",
            "T-test for Eigenvector Centrality between tvshow and government: T-statistic = -20.461841633756865, P-value = 3.1442877859912323e-91\n",
            "There is a significant difference in degree centrality between tvshow and government.\n",
            "There is a significant difference in eigenvector centrality between tvshow and government.\n"
          ]
        }
      ]
    },
    {
      "cell_type": "markdown",
      "source": [
        "# Output interpretation and analysis:\n",
        "The code output reveals that government pages have Higher Degree Centrality and Higher Eigenvector Centrality, while V Show Pages have Lower Degree Centrality and Lower Eigenvector.\n",
        "\n",
        "**Degree Centrality**\n",
        "\n",
        "T-statistic: -24.030932285131964\n",
        "P-value: 3.569438341614403e-124\n",
        "\n",
        "- The t-statistic value of -24.030932285131964 indicates a large difference in the means of degree centrality between \"tvshow\" and \"government\" page types. The negative value suggests that the mean degree centrality of \"tvshow\" pages is significantly lower than that of \"government\" pages.\n",
        "- The p-value of 3.569438341614403e-124 is extremely small, far below the typical significance level of 0.05. This p-value indicates that the observed difference in degree centrality is highly statistically significant.\n",
        "\n",
        "**Eigenvector Centrality**\n",
        "\n",
        "T-statistic: -20.461841633756865\n",
        "P-value: 3.1442877859912323e-91\n",
        "\n",
        "- The t-statistic value of -20.461841633756865 indicates a large difference in the means of eigenvector centrality between \"tvshow\" and \"government\" page types. The negative value suggests that the mean eigenvector centrality of \"tvshow\" pages is significantly lower than that of \"government\" pages.\n",
        "- The p-value of 3.1442877859912323e-91 is extremely small. This p-value indicates that the observed difference in eigenvector centrality is highly statistically significant.\n"
      ],
      "metadata": {
        "id": "K8jRiUa2aGkH"
      }
    }
  ]
}