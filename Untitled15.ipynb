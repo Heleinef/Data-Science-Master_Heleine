{
  "nbformat": 4,
  "nbformat_minor": 0,
  "metadata": {
    "colab": {
      "provenance": [],
      "authorship_tag": "ABX9TyO6w2YOyQbgRFRJ9kxGCAFE",
      "include_colab_link": true
    },
    "kernelspec": {
      "name": "python3",
      "display_name": "Python 3"
    },
    "language_info": {
      "name": "python"
    }
  },
  "cells": [
    {
      "cell_type": "markdown",
      "metadata": {
        "id": "view-in-github",
        "colab_type": "text"
      },
      "source": [
        "<a href=\"https://colab.research.google.com/github/Heleinef/Data-Science-Master_Heleine/blob/main/Untitled15.ipynb\" target=\"_parent\"><img src=\"https://colab.research.google.com/assets/colab-badge.svg\" alt=\"Open In Colab\"/></a>"
      ]
    },
    {
      "cell_type": "code",
      "execution_count": 1,
      "metadata": {
        "colab": {
          "base_uri": "https://localhost:8080/"
        },
        "id": "T4AHmZDZX74i",
        "outputId": "6d743c3b-66f6-4cb7-9d13-fbbf39f1d331"
      },
      "outputs": [
        {
          "output_type": "stream",
          "name": "stdout",
          "text": [
            "('HARD SKILLS DESCRIPTIONS FOUND IN ANALYTICS AND DATA SCIENCE JOB ADS', 'Decision trees', 'Neural networks')\n",
            "('A/B testing', 'Deep learning', 'New product development')\n",
            "('Ability to analyze', 'Descriptive analytics', 'Nonparametric')\n",
            "('Advanced analytics', 'Descriptive statistics', 'OLAP')\n",
            "('Advertising experience', 'Digital analytics', 'Operations management')\n",
            "('AI (artificial intelligence)', 'Digital marketing', 'Operations research')\n",
            "('Algorithms', 'Digital strategy', 'Optimization')\n",
            "('Analysis of variance', 'Econometric forecasting', 'Optimization modeling')\n",
            "('Analytical skills', 'Econometrics', 'Pivot tables')\n",
            "('Behavioral analytics', 'Economic forecasting', 'Powerpivot')\n",
            "('Big data', 'Enterprise optimization', 'Predictive analytics')\n",
            "('Brand management', 'Enterprise systems', 'Predictive modeling')\n",
            "('Budgeting', 'Environmental scanning', 'Prescriptive analytics')\n",
            "('Business intelligence', 'Experience with relational databases', 'Pricing analytics')\n",
            "('Business metrics', 'Experience with statistical software', 'Process management')\n",
            "('Business performance management', 'Factor or principal components analysis', 'Product positioning')\n",
            "('Business policy', 'Financial analytics', 'Production management')\n",
            "('Business strategy', 'Financial modeling', 'Programming')\n",
            "('Calculus', 'Financial services analytics', 'Promotion')\n",
            "('Causal modeling', 'Financial strategy', 'Qualitative analysis')\n",
            "('Channels of distribution', 'Fluent in Spanish', 'Quantitative analysis')\n",
            "('Churn analysis', 'Fraud analytics', 'Quantitative skills')\n",
            "('Coding', 'Google Analytics', 'Querying')\n",
            "('Competitive analysis', 'Healthcare analytics', 'Real estate analytics')\n",
            "('Computer science', 'HR analytics', 'Regression')\n",
            "('Conjoint analysis', 'Industry analysis', 'Retail analytics')\n",
            "('Consulting ability', 'Information science', 'Retail sales analytics')\n",
            "('Core competencies', 'Information technology', 'Sales forecasting')\n",
            "('Corporate governance', 'International experience', 'Sales management')\n",
            "('Corporate strategy', 'Internet marketing', 'Segmentation')\n",
            "('Correlation', 'IT strategy', 'Simulations')\n",
            "('Cost analysis', 'K-means/clustering', 'Social Media')\n",
            "('Credit analytics', 'KPI', 'Social media analytics')\n",
            "('CRM', 'Lifetime value', 'Sports analytics')\n",
            "('Customer satisfaction', 'Linear optimization', 'Statistical modeling')\n",
            "('Cyber analytics', 'Linear programming', 'Statistics (ability/skills)')\n",
            "('Cyber security', 'Location analytics', 'Strategic decisions')\n",
            "('Dashboards', 'Logistic regression', 'Strategic planning')\n",
            "('Data analysis', 'Machine learning', 'Supervised learning')\n",
            "('Data architecture', 'Macroeconomics', 'Supply chain experience')\n",
            "('Data governance', 'Management science', 'SWOT')\n",
            "('Data guru', 'Market basket analysis', 'Talent analytics')\n",
            "('Data informed', 'Market research', 'Target marketing')\n",
            "('Data mining', 'Marketing metrics', 'Technical writing')\n",
            "('Data processing', 'Marketing research', 'Text analytics')\n",
            "('Data query', 'Marketing strategy', 'Text mining')\n",
            "('Data science', 'Mathematics', 'Transactional analysis')\n",
            "('Data transformation', 'Matrix algebra', 'Transactional data')\n",
            "('Data visualization', 'Microeconomics', 'Transportation analytics')\n",
            "('Data warehouses', 'Microsoft Excel', 'Unstructured data')\n",
            "('Database development', 'Modeling', 'Unsupervised machine learning')\n",
            "('Decision analytics', 'Multivariate statistics', 'Vector modeling')\n",
            "('Decision science', 'Network analytics', 'V-Lookup')\n"
          ]
        }
      ],
      "source": [
        "#  Hard Skills Data\n",
        "data = [\n",
        "    \"HARD SKILLS DESCRIPTIONS FOUND IN ANALYTICS AND DATA SCIENCE JOB ADS\",\n",
        "    \"A/B testing\", \"Ability to analyze\", \"Advanced analytics\", \"Advertising experience\",\n",
        "    \"AI (artificial intelligence)\", \"Algorithms\", \"Analysis of variance\", \"Analytical skills\",\n",
        "    \"Behavioral analytics\", \"Big data\", \"Brand management\", \"Budgeting\",\n",
        "    \"Business intelligence\", \"Business metrics\", \"Business performance management\", \"Business policy\",\n",
        "    \"Business strategy\", \"Calculus\", \"Causal modeling\", \"Channels of distribution\",\n",
        "    \"Churn analysis\", \"Coding\", \"Competitive analysis\", \"Computer science\",\n",
        "    \"Conjoint analysis\", \"Consulting ability\", \"Core competencies\", \"Corporate governance\",\n",
        "    \"Corporate strategy\", \"Correlation\", \"Cost analysis\", \"Credit analytics\",\n",
        "    \"CRM\", \"Customer satisfaction\", \"Cyber analytics\", \"Cyber security\",\n",
        "    \"Dashboards\", \"Data analysis\", \"Data architecture\", \"Data governance\",\n",
        "    \"Data guru\", \"Data informed\", \"Data mining\", \"Data processing\",\n",
        "    \"Data query\", \"Data science\", \"Data transformation\", \"Data visualization\",\n",
        "    \"Data warehouses\", \"Database development\", \"Decision analytics\", \"Decision science\",\n",
        "    \"Decision trees\", \"Deep learning\", \"Descriptive analytics\", \"Descriptive statistics\",\n",
        "    \"Digital analytics\", \"Digital marketing\", \"Digital strategy\", \"Econometric forecasting\",\n",
        "    \"Econometrics\", \"Economic forecasting\", \"Enterprise optimization\", \"Enterprise systems\",\n",
        "    \"Environmental scanning\", \"Experience with relational databases\", \"Experience with statistical software\", \"Factor or principal components analysis\",\n",
        "    \"Financial analytics\", \"Financial modeling\", \"Financial services analytics\", \"Financial strategy\",\n",
        "    \"Fluent in Spanish\", \"Fraud analytics\", \"Google Analytics\", \"Healthcare analytics\",\n",
        "    \"HR analytics\", \"Industry analysis\", \"Information science\", \"Information technology\",\n",
        "    \"International experience\", \"Internet marketing\", \"IT strategy\", \"K-means/clustering\",\n",
        "    \"KPI\", \"Lifetime value\", \"Linear optimization\", \"Linear programming\",\n",
        "    \"Location analytics\", \"Logistic regression\", \"Machine learning\", \"Macroeconomics\",\n",
        "    \"Management science\", \"Market basket analysis\", \"Market research\", \"Marketing metrics\",\n",
        "    \"Marketing research\", \"Marketing strategy\", \"Mathematics\", \"Matrix algebra\",\n",
        "    \"Microeconomics\", \"Microsoft Excel\", \"Modeling\", \"Multivariate statistics\",\n",
        "    \"Network analytics\", \"Neural networks\", \"New product development\", \"Nonparametric\",\n",
        "    \"OLAP\", \"Operations management\", \"Operations research\", \"Optimization\",\n",
        "    \"Optimization modeling\", \"Pivot tables\", \"Powerpivot\", \"Predictive analytics\",\n",
        "    \"Predictive modeling\", \"Prescriptive analytics\", \"Pricing analytics\", \"Process management\",\n",
        "    \"Product positioning\", \"Production management\", \"Programming\", \"Promotion\",\n",
        "    \"Qualitative analysis\", \"Quantitative analysis\", \"Quantitative skills\", \"Querying\",\n",
        "    \"Real estate analytics\", \"Regression\", \"Retail analytics\", \"Retail sales analytics\",\n",
        "    \"Sales forecasting\", \"Sales management\", \"Segmentation\", \"Simulations\",\n",
        "    \"Social Media\", \"Social media analytics\", \"Sports analytics\", \"Statistical modeling\",\n",
        "    \"Statistics (ability/skills)\", \"Strategic decisions\", \"Strategic planning\", \"Supervised learning\",\n",
        "    \"Supply chain experience\", \"SWOT\", \"Talent analytics\", \"Target marketing\",\n",
        "    \"Technical writing\", \"Text analytics\", \"Text mining\", \"Transactional analysis\",\n",
        "    \"Transactional data\", \"Transportation analytics\", \"Unstructured data\", \"Unsupervised machine learning\",\n",
        "    \"Vector modeling\", \"V-Lookup\", \"Web Analytics\",\n",
        "]\n",
        "\n",
        "# Calculate the number of items per column\n",
        "items_per_column = len(data) // 3\n",
        "\n",
        "# Split the data into three columns\n",
        "column1 = data[:items_per_column]\n",
        "column2 = data[items_per_column:2 * items_per_column]\n",
        "column3 = data[2 * items_per_column:]\n",
        "\n",
        "# Combine the three columns\n",
        "combined_data = list(zip(column1, column2, column3))\n",
        "\n",
        "# Print the data in three columns\n",
        "for row in combined_data:\n",
        "    print(row)\n"
      ]
    }
  ]
}