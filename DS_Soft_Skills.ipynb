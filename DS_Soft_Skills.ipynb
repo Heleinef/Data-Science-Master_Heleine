{
  "nbformat": 4,
  "nbformat_minor": 0,
  "metadata": {
    "colab": {
      "provenance": [],
      "authorship_tag": "ABX9TyNlO3c9X/VDYlU5Rv609ESP",
      "include_colab_link": true
    },
    "kernelspec": {
      "name": "python3",
      "display_name": "Python 3"
    },
    "language_info": {
      "name": "python"
    }
  },
  "cells": [
    {
      "cell_type": "markdown",
      "metadata": {
        "id": "view-in-github",
        "colab_type": "text"
      },
      "source": [
        "<a href=\"https://colab.research.google.com/github/Heleinef/Data-Science-Master_Heleine/blob/main/DS_Soft_Skills.ipynb\" target=\"_parent\"><img src=\"https://colab.research.google.com/assets/colab-badge.svg\" alt=\"Open In Colab\"/></a>"
      ]
    },
    {
      "cell_type": "code",
      "execution_count": 3,
      "metadata": {
        "colab": {
          "base_uri": "https://localhost:8080/"
        },
        "id": "oQG4X4iFb3nV",
        "outputId": "ebe04885-5c71-497d-9d97-2910881b9bba"
      },
      "outputs": [
        {
          "output_type": "stream",
          "name": "stdout",
          "text": [
            "('SOFT SKILLS DESCRIPTIONS FOUND IN ANALYTICS AND DATA SCIENCE JOB ADS:', 'Cross-functional', 'Presentation skills/abilities')\n",
            "('Ability to work independently', 'Curiosity', 'Problem-solving skills')\n",
            "('Ability to work on teams', 'Data driven', 'Provide business insights')\n",
            "('Adaptable', 'Detailed oriented', 'Provide insight')\n",
            "('Analytical reasoning skills', 'Entrepreneurial', 'Provide marketing insights')\n",
            "('Bring insights', 'Ethical', 'Statistically minded')\n",
            "('Business acumen', 'Goal oriented', 'Strategic thinker')\n",
            "('Complex problem solving', 'Innovative', 'Teamwork')\n",
            "('Conceptual thinking', 'Inquisitive', 'Think strategically')\n",
            "('Creativity', 'Interpersonal skills', 'Verbal communication skills')\n",
            "('Critical listening', 'Leadership', 'Work collaboratively')\n",
            "('Critical thinking', 'Oral communication skills', 'Work well with others')\n"
          ]
        }
      ],
      "source": [
        "# Data Science Soft Skills Descriptions\n",
        "data = [\n",
        "    \"SOFT SKILLS DESCRIPTIONS FOUND IN ANALYTICS AND DATA SCIENCE JOB ADS:\",\n",
        "    \"Ability to work independently\",\n",
        "    \"Ability to work on teams\",\n",
        "    \"Adaptable\",\n",
        "    \"Analytical reasoning skills\",\n",
        "    \"Bring insights\",\n",
        "    \"Business acumen\",\n",
        "    \"Complex problem solving\",\n",
        "    \"Conceptual thinking\",\n",
        "    \"Creativity\",\n",
        "    \"Critical listening\",\n",
        "    \"Critical thinking\",\n",
        "    \"Cross-functional\",\n",
        "    \"Curiosity\",\n",
        "    \"Data driven\",\n",
        "    \"Detailed oriented\",\n",
        "    \"Entrepreneurial\",\n",
        "    \"Ethical\",\n",
        "    \"Goal oriented\",\n",
        "    \"Innovative\",\n",
        "    \"Inquisitive\",\n",
        "    \"Interpersonal skills\",\n",
        "    \"Leadership\",\n",
        "    \"Oral communication skills\",\n",
        "    \"Presentation skills/abilities\",\n",
        "    \"Problem-solving skills\",\n",
        "    \"Provide business insights\",\n",
        "    \"Provide insight\",\n",
        "    \"Provide marketing insights\",\n",
        "    \"Statistically minded\",\n",
        "    \"Strategic thinker\",\n",
        "    \"Teamwork\",\n",
        "    \"Think strategically\",\n",
        "    \"Verbal communication skills\",\n",
        "    \"Work collaboratively\",\n",
        "    \"Work well with others\",\n",
        "    \"Written communication skills\",\n",
        "]\n",
        "\n",
        "# Calculate the number of items per column\n",
        "items_per_column = len(data) // 3\n",
        "\n",
        "# Split the data into three columns\n",
        "column1 = data[:items_per_column]\n",
        "column2 = data[items_per_column:2 * items_per_column]\n",
        "column3 = data[2 * items_per_column:]\n",
        "\n",
        "# Combine the three columns\n",
        "combined_data = list(zip(column1, column2, column3))\n",
        "\n",
        "# Print the data in three columns\n",
        "for row in combined_data:\n",
        "    print(row)\n"
      ]
    }
  ]
}